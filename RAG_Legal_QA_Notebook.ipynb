{
  "cells": [
    {
      "cell_type": "markdown",
      "id": "863b2b72",
      "metadata": {
        "id": "863b2b72"
      },
      "source": [
        "## Step 2: Preprocessing — Convert PDF to Text"
      ]
    },
    {
      "cell_type": "code",
      "execution_count": null,
      "id": "8ef6c517",
      "metadata": {
        "id": "8ef6c517"
      },
      "outputs": [],
      "source": [
        "# Install necessary PDF parser\n",
        "!pip install -q pymupdf\n",
        "\n",
        "import fitz  # PyMuPDF\n",
        "import os\n",
        "\n",
        "def pdf_to_text(pdf_path, txt_output_path):\n",
        "    doc = fitz.open(pdf_path)\n",
        "    text = \"\"\n",
        "    for page in doc:\n",
        "        text += page.get_text()\n",
        "    with open(txt_output_path, \"w\", encoding=\"utf-8\") as f:\n",
        "        f.write(text)\n",
        "    return text\n",
        "\n",
        "# Example usage\n",
        "os.makedirs(\"data/text\", exist_ok=True)\n",
        "pdf_text = pdf_to_text(\"data/sample_contract.pdf\", \"data/text/sample_contract.txt\")\n",
        "print(pdf_text[:1000])\n"
      ]
    },
    {
      "cell_type": "markdown",
      "id": "7ed8e290",
      "metadata": {
        "id": "7ed8e290"
      },
      "source": [
        "## Step 3: Chunking Text"
      ]
    },
    {
      "cell_type": "code",
      "execution_count": null,
      "id": "1517fbbf",
      "metadata": {
        "colab": {
          "base_uri": "https://localhost:8080/"
        },
        "id": "1517fbbf",
        "outputId": "1bd10302-1e83-402e-9c7a-33b14473c382"
      },
      "outputs": [
        {
          "name": "stderr",
          "output_type": "stream",
          "text": [
            "WARNING:langchain_text_splitters.base:Created a chunk of size 1036, which is longer than the specified 1000\n",
            "WARNING:langchain_text_splitters.base:Created a chunk of size 1316, which is longer than the specified 1000\n"
          ]
        },
        {
          "name": "stdout",
          "output_type": "stream",
          "text": [
            "Total chunks: 39\n",
            "CO-BRANDING AND ADVERTISING AGREEMENT\n",
            "\n",
            "THIS CO-BRANDING AND ADVERTISING AGREEMENT (the \"Agreement\") is made as of June 21, 1999 (the \"Effective Date\") by and between I-ESCROW, INC., with its principal place of business at 1730 S. Amphlett Blvd., Suite 233, San Mateo, California 94402 (\"i-Escrow\"), and 2THEMART.COM, INC. having its principal place of business at 18301 Von Karman Avenue, 7th Floor, Irvine, California 92612 (\"2TheMart\").\n",
            "\n",
            "1. DEFINITIONS.\n",
            "\n",
            "(a) \"CONTENT\" means all content or information, in any medium, provided by a party to the other party for use in conjunction with the performance of its obligations hereunder, including without limitation any text, music, sound, photographs, video, graphics, data or software. Content provided by 2TheMart is referred to herein as \"2TheMart Content\" and Content provided by i-Escrow is referred to herein as \"i-Escrow Content.\"\n"
          ]
        }
      ],
      "source": [
        "from langchain.text_splitter import CharacterTextSplitter\n",
        "\n",
        "with open(\"/content/2ThemartComInc_19990826_10-12G_EX-10.10_6700288_EX-10.10_Co-Branding Agreement_ Agency Agreement.txt\", \"r\", encoding=\"utf-8\") as f:\n",
        "    full_text = f.read()\n",
        "\n",
        "splitter = CharacterTextSplitter(chunk_size=1000, chunk_overlap=200)\n",
        "chunks = splitter.split_text(full_text)\n",
        "\n",
        "print(f\"Total chunks: {len(chunks)}\")\n",
        "print(chunks[0])\n"
      ]
    },
    {
      "cell_type": "markdown",
      "id": "91a301df",
      "metadata": {
        "id": "91a301df"
      },
      "source": [
        "## Step 4: Embedding Chunks"
      ]
    },
    {
      "cell_type": "code",
      "execution_count": null,
      "id": "sAB3g5gmDH-Y",
      "metadata": {
        "id": "sAB3g5gmDH-Y"
      },
      "outputs": [],
      "source": [
        "!pip install -q sentence-transformers faiss-cpu"
      ]
    },
    {
      "cell_type": "code",
      "execution_count": null,
      "id": "58954929",
      "metadata": {
        "colab": {
          "base_uri": "https://localhost:8080/",
          "height": 121,
          "referenced_widgets": [
            "2d7a3d75f635476dbaec9b4287b92679",
            "b80abe061338465f9ebcc532e0bf69f7",
            "c5ad6cd8f39b420eb3f28403a98181e6",
            "062906d4a6004b768c4087e904836fb7",
            "379f93110a7c40baa65ed9c661ed1b09",
            "2dde2966c3d843169e5175d835881038",
            "daf4cf87bfb0412e8ad597c488215a3f",
            "2fa0999a35ae40688da5ed217cff45f1",
            "2bfde72d196f4816bce4e88b37125bc7",
            "9688d7757e4548dea7f1ba9c1e64c0e5",
            "b4b47d7c72d34c989b4109073bf023f6"
          ]
        },
        "id": "58954929",
        "outputId": "ae88865f-f6d7-433f-f977-2a55cb870ad0"
      },
      "outputs": [
        {
          "data": {
            "application/vnd.jupyter.widget-view+json": {
              "model_id": "2d7a3d75f635476dbaec9b4287b92679",
              "version_major": 2,
              "version_minor": 0
            },
            "text/plain": [
              "Batches:   0%|          | 0/2 [00:00<?, ?it/s]"
            ]
          },
          "metadata": {},
          "output_type": "display_data"
        },
        {
          "name": "stderr",
          "output_type": "stream",
          "text": [
            "/usr/local/lib/python3.11/dist-packages/torch/nn/modules/module.py:1750: FutureWarning: `encoder_attention_mask` is deprecated and will be removed in version 4.55.0 for `BertSdpaSelfAttention.forward`.\n",
            "  return forward_call(*args, **kwargs)\n"
          ]
        },
        {
          "name": "stdout",
          "output_type": "stream",
          "text": [
            "FAISS index created and saved.\n"
          ]
        }
      ],
      "source": [
        "from sentence_transformers import SentenceTransformer\n",
        "import faiss\n",
        "import numpy as np\n",
        "import os\n",
        "\n",
        "# Load embedding model\n",
        "model = SentenceTransformer(\"all-MiniLM-L6-v2\")\n",
        "embeddings = model.encode(chunks, show_progress_bar=True)\n",
        "\n",
        "# Build FAISS index\n",
        "dimension = embeddings.shape[1]\n",
        "index = faiss.IndexFlatL2(dimension)\n",
        "index.add(np.array(embeddings))\n",
        "\n",
        "# Save index\n",
        "os.makedirs(\"data/index\", exist_ok=True)\n",
        "faiss.write_index(index, \"data/index/legal_faiss.index\")\n",
        "print(\"FAISS index created and saved.\")\n"
      ]
    },
    {
      "cell_type": "markdown",
      "id": "192275c6",
      "metadata": {
        "id": "192275c6"
      },
      "source": [
        "## Step 5: Implement Retrieval-Augmented Generation (RAG)"
      ]
    },
    {
      "cell_type": "code",
      "execution_count": null,
      "id": "gnSKu94tFvES",
      "metadata": {
        "id": "gnSKu94tFvES"
      },
      "outputs": [],
      "source": [
        "!pip install -q openai"
      ]
    },
    {
      "cell_type": "code",
      "execution_count": null,
      "id": "6341d0e2",
      "metadata": {
        "id": "6341d0e2"
      },
      "outputs": [],
      "source": [
        "\n",
        "from google.colab import userdata\n",
        "import google.generativeai as genai\n",
        "import os\n",
        "\n",
        "# Set your Gemini API key\n",
        "genai.configure(api_key=userdata.get('GOOGLE_API_KEY'))  # 🔐 Replace with your actual key\n",
        "\n",
        "# Initialize model\n",
        "llm = genai.GenerativeModel(\"gemini-2.5-pro\")\n",
        "\n",
        "def retrieve_top_k(query, model, index, texts, k=3):\n",
        "    query_embedding = model.encode([query])\n",
        "    distances, indices = index.search(np.array(query_embedding), k)\n",
        "    return [texts[i] for i in indices[0]]\n",
        "\n",
        "def generate_answer_gemini(question, top_chunks):\n",
        "    context = \"\\n\\n\".join(top_chunks)\n",
        "    prompt = f\"\"\"You are a legal contract assistant. Answer the question below using only the given context.\n",
        "\n",
        "Context:\n",
        "{context}\n",
        "\n",
        "Question: {question}\n",
        "\n",
        "Answer:\"\"\"\n",
        "\n",
        "    response = llm.generate_content(prompt)\n",
        "    return response.text"
      ]
    },
    {
      "cell_type": "code",
      "execution_count": null,
      "id": "FgpKSGfsKkhm",
      "metadata": {
        "colab": {
          "base_uri": "https://localhost:8080/",
          "height": 89
        },
        "id": "FgpKSGfsKkhm",
        "outputId": "858d4768-31ed-498e-ffc7-214630f917ef"
      },
      "outputs": [
        {
          "name": "stdout",
          "output_type": "stream",
          "text": [
            "✅ Gemini's Answer: Based on the context provided, this contract belongs to the category of an **Independent Contractor Agreement**.\n",
            "\n",
            "Section 12.5 explicitly states: \"The parties are independent contractors, and no agency, partnership, joint venture, employee- employer or franchisor-franchisee relationship is intended or created by this Agreement.\"\n"
          ]
        }
      ],
      "source": [
        "question = \"which category does this contract belongs to?\"\n",
        "top_chunks = retrieve_top_k(question, model, index, chunks)\n",
        "answer = generate_answer_gemini(question, top_chunks)\n",
        "\n",
        "print(\"✅ Gemini's Answer:\", answer)"
      ]
    }
  ],
  "metadata": {
    "colab": {
      "provenance": []
    },
    "kernelspec": {
      "display_name": "base",
      "language": "python",
      "name": "python3"
    },
    "language_info": {
      "name": "python",
      "version": "3.11.5"
    },
    "widgets": {
      "application/vnd.jupyter.widget-state+json": {
        "062906d4a6004b768c4087e904836fb7": {
          "model_module": "@jupyter-widgets/controls",
          "model_module_version": "1.5.0",
          "model_name": "HTMLModel",
          "state": {
            "_dom_classes": [],
            "_model_module": "@jupyter-widgets/controls",
            "_model_module_version": "1.5.0",
            "_model_name": "HTMLModel",
            "_view_count": null,
            "_view_module": "@jupyter-widgets/controls",
            "_view_module_version": "1.5.0",
            "_view_name": "HTMLView",
            "description": "",
            "description_tooltip": null,
            "layout": "IPY_MODEL_9688d7757e4548dea7f1ba9c1e64c0e5",
            "placeholder": "​",
            "style": "IPY_MODEL_b4b47d7c72d34c989b4109073bf023f6",
            "value": " 2/2 [00:05&lt;00:00,  2.17s/it]"
          }
        },
        "2bfde72d196f4816bce4e88b37125bc7": {
          "model_module": "@jupyter-widgets/controls",
          "model_module_version": "1.5.0",
          "model_name": "ProgressStyleModel",
          "state": {
            "_model_module": "@jupyter-widgets/controls",
            "_model_module_version": "1.5.0",
            "_model_name": "ProgressStyleModel",
            "_view_count": null,
            "_view_module": "@jupyter-widgets/base",
            "_view_module_version": "1.2.0",
            "_view_name": "StyleView",
            "bar_color": null,
            "description_width": ""
          }
        },
        "2d7a3d75f635476dbaec9b4287b92679": {
          "model_module": "@jupyter-widgets/controls",
          "model_module_version": "1.5.0",
          "model_name": "HBoxModel",
          "state": {
            "_dom_classes": [],
            "_model_module": "@jupyter-widgets/controls",
            "_model_module_version": "1.5.0",
            "_model_name": "HBoxModel",
            "_view_count": null,
            "_view_module": "@jupyter-widgets/controls",
            "_view_module_version": "1.5.0",
            "_view_name": "HBoxView",
            "box_style": "",
            "children": [
              "IPY_MODEL_b80abe061338465f9ebcc532e0bf69f7",
              "IPY_MODEL_c5ad6cd8f39b420eb3f28403a98181e6",
              "IPY_MODEL_062906d4a6004b768c4087e904836fb7"
            ],
            "layout": "IPY_MODEL_379f93110a7c40baa65ed9c661ed1b09"
          }
        },
        "2dde2966c3d843169e5175d835881038": {
          "model_module": "@jupyter-widgets/base",
          "model_module_version": "1.2.0",
          "model_name": "LayoutModel",
          "state": {
            "_model_module": "@jupyter-widgets/base",
            "_model_module_version": "1.2.0",
            "_model_name": "LayoutModel",
            "_view_count": null,
            "_view_module": "@jupyter-widgets/base",
            "_view_module_version": "1.2.0",
            "_view_name": "LayoutView",
            "align_content": null,
            "align_items": null,
            "align_self": null,
            "border": null,
            "bottom": null,
            "display": null,
            "flex": null,
            "flex_flow": null,
            "grid_area": null,
            "grid_auto_columns": null,
            "grid_auto_flow": null,
            "grid_auto_rows": null,
            "grid_column": null,
            "grid_gap": null,
            "grid_row": null,
            "grid_template_areas": null,
            "grid_template_columns": null,
            "grid_template_rows": null,
            "height": null,
            "justify_content": null,
            "justify_items": null,
            "left": null,
            "margin": null,
            "max_height": null,
            "max_width": null,
            "min_height": null,
            "min_width": null,
            "object_fit": null,
            "object_position": null,
            "order": null,
            "overflow": null,
            "overflow_x": null,
            "overflow_y": null,
            "padding": null,
            "right": null,
            "top": null,
            "visibility": null,
            "width": null
          }
        },
        "2fa0999a35ae40688da5ed217cff45f1": {
          "model_module": "@jupyter-widgets/base",
          "model_module_version": "1.2.0",
          "model_name": "LayoutModel",
          "state": {
            "_model_module": "@jupyter-widgets/base",
            "_model_module_version": "1.2.0",
            "_model_name": "LayoutModel",
            "_view_count": null,
            "_view_module": "@jupyter-widgets/base",
            "_view_module_version": "1.2.0",
            "_view_name": "LayoutView",
            "align_content": null,
            "align_items": null,
            "align_self": null,
            "border": null,
            "bottom": null,
            "display": null,
            "flex": null,
            "flex_flow": null,
            "grid_area": null,
            "grid_auto_columns": null,
            "grid_auto_flow": null,
            "grid_auto_rows": null,
            "grid_column": null,
            "grid_gap": null,
            "grid_row": null,
            "grid_template_areas": null,
            "grid_template_columns": null,
            "grid_template_rows": null,
            "height": null,
            "justify_content": null,
            "justify_items": null,
            "left": null,
            "margin": null,
            "max_height": null,
            "max_width": null,
            "min_height": null,
            "min_width": null,
            "object_fit": null,
            "object_position": null,
            "order": null,
            "overflow": null,
            "overflow_x": null,
            "overflow_y": null,
            "padding": null,
            "right": null,
            "top": null,
            "visibility": null,
            "width": null
          }
        },
        "379f93110a7c40baa65ed9c661ed1b09": {
          "model_module": "@jupyter-widgets/base",
          "model_module_version": "1.2.0",
          "model_name": "LayoutModel",
          "state": {
            "_model_module": "@jupyter-widgets/base",
            "_model_module_version": "1.2.0",
            "_model_name": "LayoutModel",
            "_view_count": null,
            "_view_module": "@jupyter-widgets/base",
            "_view_module_version": "1.2.0",
            "_view_name": "LayoutView",
            "align_content": null,
            "align_items": null,
            "align_self": null,
            "border": null,
            "bottom": null,
            "display": null,
            "flex": null,
            "flex_flow": null,
            "grid_area": null,
            "grid_auto_columns": null,
            "grid_auto_flow": null,
            "grid_auto_rows": null,
            "grid_column": null,
            "grid_gap": null,
            "grid_row": null,
            "grid_template_areas": null,
            "grid_template_columns": null,
            "grid_template_rows": null,
            "height": null,
            "justify_content": null,
            "justify_items": null,
            "left": null,
            "margin": null,
            "max_height": null,
            "max_width": null,
            "min_height": null,
            "min_width": null,
            "object_fit": null,
            "object_position": null,
            "order": null,
            "overflow": null,
            "overflow_x": null,
            "overflow_y": null,
            "padding": null,
            "right": null,
            "top": null,
            "visibility": null,
            "width": null
          }
        },
        "9688d7757e4548dea7f1ba9c1e64c0e5": {
          "model_module": "@jupyter-widgets/base",
          "model_module_version": "1.2.0",
          "model_name": "LayoutModel",
          "state": {
            "_model_module": "@jupyter-widgets/base",
            "_model_module_version": "1.2.0",
            "_model_name": "LayoutModel",
            "_view_count": null,
            "_view_module": "@jupyter-widgets/base",
            "_view_module_version": "1.2.0",
            "_view_name": "LayoutView",
            "align_content": null,
            "align_items": null,
            "align_self": null,
            "border": null,
            "bottom": null,
            "display": null,
            "flex": null,
            "flex_flow": null,
            "grid_area": null,
            "grid_auto_columns": null,
            "grid_auto_flow": null,
            "grid_auto_rows": null,
            "grid_column": null,
            "grid_gap": null,
            "grid_row": null,
            "grid_template_areas": null,
            "grid_template_columns": null,
            "grid_template_rows": null,
            "height": null,
            "justify_content": null,
            "justify_items": null,
            "left": null,
            "margin": null,
            "max_height": null,
            "max_width": null,
            "min_height": null,
            "min_width": null,
            "object_fit": null,
            "object_position": null,
            "order": null,
            "overflow": null,
            "overflow_x": null,
            "overflow_y": null,
            "padding": null,
            "right": null,
            "top": null,
            "visibility": null,
            "width": null
          }
        },
        "b4b47d7c72d34c989b4109073bf023f6": {
          "model_module": "@jupyter-widgets/controls",
          "model_module_version": "1.5.0",
          "model_name": "DescriptionStyleModel",
          "state": {
            "_model_module": "@jupyter-widgets/controls",
            "_model_module_version": "1.5.0",
            "_model_name": "DescriptionStyleModel",
            "_view_count": null,
            "_view_module": "@jupyter-widgets/base",
            "_view_module_version": "1.2.0",
            "_view_name": "StyleView",
            "description_width": ""
          }
        },
        "b80abe061338465f9ebcc532e0bf69f7": {
          "model_module": "@jupyter-widgets/controls",
          "model_module_version": "1.5.0",
          "model_name": "HTMLModel",
          "state": {
            "_dom_classes": [],
            "_model_module": "@jupyter-widgets/controls",
            "_model_module_version": "1.5.0",
            "_model_name": "HTMLModel",
            "_view_count": null,
            "_view_module": "@jupyter-widgets/controls",
            "_view_module_version": "1.5.0",
            "_view_name": "HTMLView",
            "description": "",
            "description_tooltip": null,
            "layout": "IPY_MODEL_2dde2966c3d843169e5175d835881038",
            "placeholder": "​",
            "style": "IPY_MODEL_daf4cf87bfb0412e8ad597c488215a3f",
            "value": "Batches: 100%"
          }
        },
        "c5ad6cd8f39b420eb3f28403a98181e6": {
          "model_module": "@jupyter-widgets/controls",
          "model_module_version": "1.5.0",
          "model_name": "FloatProgressModel",
          "state": {
            "_dom_classes": [],
            "_model_module": "@jupyter-widgets/controls",
            "_model_module_version": "1.5.0",
            "_model_name": "FloatProgressModel",
            "_view_count": null,
            "_view_module": "@jupyter-widgets/controls",
            "_view_module_version": "1.5.0",
            "_view_name": "ProgressView",
            "bar_style": "success",
            "description": "",
            "description_tooltip": null,
            "layout": "IPY_MODEL_2fa0999a35ae40688da5ed217cff45f1",
            "max": 2,
            "min": 0,
            "orientation": "horizontal",
            "style": "IPY_MODEL_2bfde72d196f4816bce4e88b37125bc7",
            "value": 2
          }
        },
        "daf4cf87bfb0412e8ad597c488215a3f": {
          "model_module": "@jupyter-widgets/controls",
          "model_module_version": "1.5.0",
          "model_name": "DescriptionStyleModel",
          "state": {
            "_model_module": "@jupyter-widgets/controls",
            "_model_module_version": "1.5.0",
            "_model_name": "DescriptionStyleModel",
            "_view_count": null,
            "_view_module": "@jupyter-widgets/base",
            "_view_module_version": "1.2.0",
            "_view_name": "StyleView",
            "description_width": ""
          }
        }
      }
    }
  },
  "nbformat": 4,
  "nbformat_minor": 5
}
